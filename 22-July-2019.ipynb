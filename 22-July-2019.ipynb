{
 "cells": [
  {
   "cell_type": "markdown",
   "metadata": {},
   "source": [
    "## HackerEarth Problems"
   ]
  },
  {
   "cell_type": "markdown",
   "metadata": {},
   "source": [
    "### Q1 . MYSTERY(very Easy)"
   ]
  },
  {
   "cell_type": "code",
   "execution_count": 1,
   "metadata": {},
   "outputs": [
    {
     "name": "stdout",
     "output_type": "stream",
     "text": [
      "0\n",
      "0\n",
      "1\n",
      "1\n",
      "2\n",
      "1\n",
      "3\n",
      "2\n",
      "4\n",
      "1\n",
      "5\n",
      "2\n",
      "6\n",
      "2\n",
      "n\n"
     ]
    }
   ],
   "source": [
    "while True:\n",
    "    try:\n",
    "        num = int(input())\n",
    "        print(bin(num).count(\"1\"))\n",
    "    except:\n",
    "        break"
   ]
  },
  {
   "cell_type": "code",
   "execution_count": null,
   "metadata": {},
   "outputs": [],
   "source": []
  },
  {
   "cell_type": "markdown",
   "metadata": {},
   "source": [
    "### Q2 . Subham and Binary Strings\n"
   ]
  },
  {
   "cell_type": "code",
   "execution_count": 76,
   "metadata": {},
   "outputs": [
    {
     "data": {
      "text/plain": [
       "433879779402921623"
      ]
     },
     "execution_count": 76,
     "metadata": {},
     "output_type": "execute_result"
    }
   ],
   "source": [
    "def binarytodecimal(binary):\n",
    "    total = 0\n",
    "    for i in range(len(str(binary))):\n",
    "        bit  = binary % 10\n",
    "        total = total + (bit*(2**i))\n",
    "        binary = binary//10\n",
    "    return (total)\n",
    "    \n",
    "binarytodecimal(11000000101011100110101110001001110100010010011011010010111)"
   ]
  },
  {
   "cell_type": "code",
   "execution_count": 25,
   "metadata": {},
   "outputs": [
    {
     "name": "stdout",
     "output_type": "stream",
     "text": [
      "2\n",
      "3\n",
      "101\n",
      "1\n",
      "5\n",
      "10011\n",
      "2\n"
     ]
    }
   ],
   "source": [
    "for case in range(int(input())):\n",
    "    value = int(input())\n",
    "    num = input()\n",
    "    reverse_num = ''\n",
    "    count=0\n",
    "    for op in range(len(num)):\n",
    "        for i in range(len(num)-1):\n",
    "            reverse_num = num[1:]+num[0]\n",
    "            num = reverse_num\n",
    "        if num[-1]=='0':\n",
    "            count+=1\n",
    "    print(count)"
   ]
  },
  {
   "cell_type": "code",
   "execution_count": 26,
   "metadata": {},
   "outputs": [
    {
     "name": "stdout",
     "output_type": "stream",
     "text": [
      "2\n",
      "3\n",
      "101\n",
      "1\n",
      "5\n",
      "10011\n",
      "2\n"
     ]
    }
   ],
   "source": [
    "for case in range(int(input())):\n",
    "    value = int(input())\n",
    "    num = input()\n",
    "    print(num.count('0'))"
   ]
  },
  {
   "cell_type": "code",
   "execution_count": null,
   "metadata": {},
   "outputs": [],
   "source": []
  },
  {
   "cell_type": "markdown",
   "metadata": {},
   "source": [
    "### Q3 . Monk and the box of cookies\n"
   ]
  },
  {
   "cell_type": "code",
   "execution_count": 52,
   "metadata": {},
   "outputs": [
    {
     "name": "stdout",
     "output_type": "stream",
     "text": [
      "1\n",
      "4\n",
      "2\n",
      "4\n",
      "2\n",
      "8\n",
      "1\n"
     ]
    }
   ],
   "source": [
    "for case in range(int(input())):\n",
    "    c = [0]*32\n",
    "    for lines in range(int(input())):\n",
    "        li = '0'*32\n",
    "        num = int(input())\n",
    "        binum = bin(num)[2:]\n",
    "        li = (li[len(binum):]+binum)\n",
    "        #print(li)\n",
    "        for i in range(len(li)):\n",
    "            if li[i] == '1':\n",
    "                c[i]+=1\n",
    "    print(c[::-1].index(max(c)))"
   ]
  },
  {
   "cell_type": "code",
   "execution_count": null,
   "metadata": {},
   "outputs": [],
   "source": []
  },
  {
   "cell_type": "code",
   "execution_count": 45,
   "metadata": {},
   "outputs": [
    {
     "data": {
      "text/plain": [
       "32"
      ]
     },
     "execution_count": 45,
     "metadata": {},
     "output_type": "execute_result"
    }
   ],
   "source": [
    "len(li)"
   ]
  },
  {
   "cell_type": "markdown",
   "metadata": {},
   "source": [
    "### Q4 . The Castle Gate\n"
   ]
  },
  {
   "cell_type": "code",
   "execution_count": 63,
   "metadata": {},
   "outputs": [
    {
     "name": "stdout",
     "output_type": "stream",
     "text": [
      "1\n",
      "4\n",
      "3\n"
     ]
    }
   ],
   "source": [
    "for cases in range(int(input())):\n",
    "    n = int(input())\n",
    "    count = 0\n",
    "    for i in range(1,n):\n",
    "        for j in range(i+1,n): \n",
    "            if i^j <=n:\n",
    "                count+=1\n",
    "    print(count)"
   ]
  },
  {
   "cell_type": "code",
   "execution_count": null,
   "metadata": {},
   "outputs": [],
   "source": []
  },
  {
   "cell_type": "markdown",
   "metadata": {},
   "source": [
    "### Q5 . Hihi and Crazy Bits\n"
   ]
  },
  {
   "cell_type": "code",
   "execution_count": 26,
   "metadata": {},
   "outputs": [
    {
     "name": "stdout",
     "output_type": "stream",
     "text": [
      "1\n",
      "12\n",
      "13\n"
     ]
    }
   ],
   "source": [
    "for cases in range(int(input())):\n",
    "    n = bin(int(input()))[2:]\n",
    "    bi = list(map(int,n[::-1]))\n",
    "    bi[n[::-1].index('0')] = bi[n[::-1].index('0')]^1\n",
    "    print(int(\"\".join(map(str,bi[::-1])),2))"
   ]
  },
  {
   "cell_type": "code",
   "execution_count": null,
   "metadata": {},
   "outputs": [],
   "source": []
  },
  {
   "cell_type": "code",
   "execution_count": null,
   "metadata": {},
   "outputs": [],
   "source": []
  },
  {
   "cell_type": "markdown",
   "metadata": {},
   "source": [
    "### Q6 . Help your roommate\n"
   ]
  },
  {
   "cell_type": "code",
   "execution_count": 36,
   "metadata": {},
   "outputs": [
    {
     "name": "stdout",
     "output_type": "stream",
     "text": [
      "1\n",
      "2\n",
      "1\n"
     ]
    }
   ],
   "source": [
    "for case in range(int(input())):\n",
    "    value = bin(int(input()))[2:]\n",
    "    print(value.count('1'))"
   ]
  },
  {
   "cell_type": "code",
   "execution_count": null,
   "metadata": {},
   "outputs": [],
   "source": []
  },
  {
   "cell_type": "markdown",
   "metadata": {},
   "source": [
    "### Q7 . Rajan and Odd frequency number\n"
   ]
  },
  {
   "cell_type": "code",
   "execution_count": 50,
   "metadata": {},
   "outputs": [
    {
     "name": "stdout",
     "output_type": "stream",
     "text": [
      "1\n",
      "1 2 3 2 1\n",
      "3\n"
     ]
    }
   ],
   "source": [
    "t=int(input())\n",
    "n=list(map(int,input().split()))\n",
    "d={}\n",
    "for i in n:\n",
    "    if i in d:\n",
    "        d[i]+=1\n",
    "    else:\n",
    "        d[i]=1\n",
    "for k,v in d.items():\n",
    "    if v%2==1:\n",
    "        print(k)"
   ]
  },
  {
   "cell_type": "code",
   "execution_count": null,
   "metadata": {},
   "outputs": [],
   "source": []
  },
  {
   "cell_type": "markdown",
   "metadata": {},
   "source": [
    "### Q8 . MYSTERY (easy)"
   ]
  },
  {
   "cell_type": "code",
   "execution_count": 3,
   "metadata": {},
   "outputs": [
    {
     "name": "stdout",
     "output_type": "stream",
     "text": [
      "0\n",
      "0\n",
      "1\n",
      "1\n",
      "5\n",
      "1\n",
      "7\n",
      "1\n",
      "9\n",
      "1\n",
      "12\n",
      "4\n",
      "22\n",
      "2\n",
      "n\n"
     ]
    }
   ],
   "source": [
    "while(True):\n",
    "    try:\n",
    "        n = bin(int(input()))[2:]\n",
    "        if n != '0':\n",
    "            reverse_n = n[::-1]\n",
    "            idx = reverse_n.index('1')\n",
    "            print(2**idx)\n",
    "        else:\n",
    "            print('0')\n",
    "    except:\n",
    "        break\n",
    "    "
   ]
  },
  {
   "cell_type": "code",
   "execution_count": null,
   "metadata": {},
   "outputs": [],
   "source": []
  },
  {
   "cell_type": "markdown",
   "metadata": {},
   "source": [
    "### Q9 . Monk and Tasks\n"
   ]
  },
  {
   "cell_type": "code",
   "execution_count": 24,
   "metadata": {},
   "outputs": [
    {
     "name": "stdout",
     "output_type": "stream",
     "text": [
      "1\n",
      "4\n",
      "4 3 7 10\n",
      "4 3 10 7 "
     ]
    }
   ],
   "source": [
    "for case in range(int(input())):\n",
    "    days = int(input())\n",
    "    tasks = list(map(int,input().split()))\n",
    "    d={}\n",
    "    for ele in tasks:\n",
    "        d[ele] = bin(int(ele))[2:].count('1')\n",
    "    z = sorted(d.items(), key = lambda x:x[1])\n",
    "    for ele in z:\n",
    "        print(ele[0],end = \" \")"
   ]
  },
  {
   "cell_type": "code",
   "execution_count": 22,
   "metadata": {},
   "outputs": [
    {
     "data": {
      "text/plain": [
       "4"
      ]
     },
     "execution_count": 22,
     "metadata": {},
     "output_type": "execute_result"
    }
   ],
   "source": [
    "z = sorted(d.items(), key = lambda x:x[1])\n",
    "len(z)"
   ]
  },
  {
   "cell_type": "code",
   "execution_count": null,
   "metadata": {},
   "outputs": [],
   "source": []
  },
  {
   "cell_type": "code",
   "execution_count": null,
   "metadata": {},
   "outputs": [],
   "source": []
  }
 ],
 "metadata": {
  "kernelspec": {
   "display_name": "Python 3",
   "language": "python",
   "name": "python3"
  },
  "language_info": {
   "codemirror_mode": {
    "name": "ipython",
    "version": 3
   },
   "file_extension": ".py",
   "mimetype": "text/x-python",
   "name": "python",
   "nbconvert_exporter": "python",
   "pygments_lexer": "ipython3",
   "version": "3.7.3"
  }
 },
 "nbformat": 4,
 "nbformat_minor": 2
}
