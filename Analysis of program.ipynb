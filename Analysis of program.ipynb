{
 "cells": [
  {
   "cell_type": "markdown",
   "metadata": {},
   "source": [
    "# Analysis of Problems in Raptor and Jupyter\n",
    "---\n",
    "---"
   ]
  },
  {
   "cell_type": "markdown",
   "metadata": {},
   "source": [
    "### Q1 . Perfect Number\n",
    "\n",
    "Write a function to check wheter a given is perfect Number or Not a perfect Number"
   ]
  },
  {
   "cell_type": "markdown",
   "metadata": {},
   "source": [
    "#### ALGORITHM:"
   ]
  },
  {
   "cell_type": "markdown",
   "metadata": {},
   "source": [
    "STEP 1: Enter the input number<br>\n",
    "STEP 2: Initalize the counter and sum as 0<br>\n",
    "STEP 3: continue the loop, untill the counter reaches upto the value of input number<br>\n",
    "STEP 4: check for each counter, if number is divisible by counter, add the counter to total<br>\n",
    "STEP 5: if the total is equal to given number then the given number is PERFECT, else NOT PERFECT<br>"
   ]
  },
  {
   "cell_type": "code",
   "execution_count": null,
   "metadata": {},
   "outputs": [],
   "source": []
  },
  {
   "cell_type": "markdown",
   "metadata": {},
   "source": [
    "#### RAPTOR"
   ]
  },
  {
   "cell_type": "markdown",
   "metadata": {},
   "source": [
    "<left>![perfect_main](Images\\perfect_main.png)</left>\n",
    "\n",
    "<right>![perfect_procedure](Images\\perfect_procedure.png)</right>"
   ]
  },
  {
   "cell_type": "markdown",
   "metadata": {},
   "source": []
  },
  {
   "cell_type": "markdown",
   "metadata": {},
   "source": [
    "#### PROGRAM"
   ]
  },
  {
   "cell_type": "code",
   "execution_count": 14,
   "metadata": {},
   "outputs": [
    {
     "name": "stdout",
     "output_type": "stream",
     "text": [
      "6\n",
      "1 1\n",
      "2 3\n",
      "3 6\n",
      "6 is PERFECT\n"
     ]
    }
   ],
   "source": [
    "def isperfect(num):\n",
    "    total = 0\n",
    "    for i in range(1,num):\n",
    "        if num%i==0:\n",
    "            total+=i\n",
    "    if total==num:\n",
    "        print(num,\"is PERFECT\")\n",
    "    else:\n",
    "        print(num,\"is NOT PREFECT\")\n",
    "        \n",
    "isperfect(int(input()))"
   ]
  },
  {
   "cell_type": "code",
   "execution_count": null,
   "metadata": {},
   "outputs": [],
   "source": []
  }
 ],
 "metadata": {
  "kernelspec": {
   "display_name": "Python 3",
   "language": "python",
   "name": "python3"
  },
  "language_info": {
   "codemirror_mode": {
    "name": "ipython",
    "version": 3
   },
   "file_extension": ".py",
   "mimetype": "text/x-python",
   "name": "python",
   "nbconvert_exporter": "python",
   "pygments_lexer": "ipython3",
   "version": "3.7.3"
  }
 },
 "nbformat": 4,
 "nbformat_minor": 2
}
