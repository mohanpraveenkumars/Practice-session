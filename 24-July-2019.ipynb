{
 "cells": [
  {
   "cell_type": "markdown",
   "metadata": {},
   "source": [
    "### Q1 . Subset AND\n"
   ]
  },
  {
   "cell_type": "code",
   "execution_count": 25,
   "metadata": {},
   "outputs": [
    {
     "name": "stdout",
     "output_type": "stream",
     "text": [
      "1\n",
      "10 2\n",
      "2 0\n",
      "Yes\n"
     ]
    }
   ],
   "source": [
    "for case in range(int(input())):\n",
    "    z,n = map(int,input().split())\n",
    "    data = list(map(int,input().split()))\n",
    "    for ele in data:\n",
    "        z&=ele\n",
    "    if z==0:\n",
    "        print(\"Yes\")\n",
    "    else:\n",
    "        print(\"No\")"
   ]
  },
  {
   "cell_type": "code",
   "execution_count": null,
   "metadata": {},
   "outputs": [],
   "source": []
  },
  {
   "cell_type": "code",
   "execution_count": null,
   "metadata": {},
   "outputs": [],
   "source": []
  },
  {
   "cell_type": "markdown",
   "metadata": {},
   "source": [
    "### Q2 . The Great Kian\n"
   ]
  },
  {
   "cell_type": "code",
   "execution_count": 60,
   "metadata": {},
   "outputs": [
    {
     "name": "stdout",
     "output_type": "stream",
     "text": [
      "5\n",
      "1 2 3 4 5\n",
      "5 7 3\n"
     ]
    }
   ],
   "source": [
    "length = int(input())\n",
    "data = list(map(int,input().split()))\n",
    "total1=total2=total3=0\n",
    "for i in range(0,length,3):\n",
    "    total1 +=data[i]\n",
    "for j in range(1,length,3):\n",
    "    total2 +=data[j]\n",
    "for k in range(2,length,3):\n",
    "    total3+=data[k]\n",
    "    \n",
    "print(total1,total2,total3)"
   ]
  },
  {
   "cell_type": "code",
   "execution_count": null,
   "metadata": {},
   "outputs": [],
   "source": []
  },
  {
   "cell_type": "markdown",
   "metadata": {},
   "source": [
    "### Q3 . Array Sum\n"
   ]
  },
  {
   "cell_type": "code",
   "execution_count": 95,
   "metadata": {},
   "outputs": [
    {
     "name": "stdout",
     "output_type": "stream",
     "text": [
      "10\n",
      "1001458909 1004570889 1007019111 1003302837 1002514638 1006431461 1002575010 1007514041 1007548981 1004402249\n",
      "10047338126\n"
     ]
    }
   ],
   "source": [
    "length  = int(input())\n",
    "arr = list(map(str,input().split()))\n",
    "total = 0\n",
    "for i in range(length):\n",
    "    total+=int(arr[i])\n",
    "print(total)"
   ]
  },
  {
   "cell_type": "code",
   "execution_count": null,
   "metadata": {},
   "outputs": [],
   "source": []
  },
  {
   "cell_type": "markdown",
   "metadata": {},
   "source": [
    "### Q4 . Print hackerearth\n"
   ]
  },
  {
   "cell_type": "code",
   "execution_count": 166,
   "metadata": {},
   "outputs": [
    {
     "name": "stdout",
     "output_type": "stream",
     "text": [
      "145\n",
      "jseccjbwuthkelqiptxynfbjmftriimuyoambosnjksvsgvjsvfgfxvjnvhinyoooaxbwvokntpiqwqvnukwdvwosfdsyaiualitrxeagntjhtclinihtydblmvlqsdsfjjrtfbfjyevfomsb\n",
      "1\n"
     ]
    }
   ],
   "source": [
    "length = int(input())\n",
    "string = input()\n",
    "d = {}\n",
    "word = \"hackerearth\"\n",
    "double = \"hear\"\n",
    "for letter in string:\n",
    "    if letter in word:\n",
    "        d[letter] = string.count(letter)\n",
    "for i in double:\n",
    "    if i in d.keys():\n",
    "        d[i] = d[i]//2\n",
    "print(min(d.values()))"
   ]
  },
  {
   "cell_type": "code",
   "execution_count": null,
   "metadata": {},
   "outputs": [],
   "source": []
  },
  {
   "cell_type": "markdown",
   "metadata": {},
   "source": [
    "### Q5 . ques 6"
   ]
  },
  {
   "cell_type": "code",
   "execution_count": 251,
   "metadata": {},
   "outputs": [
    {
     "name": "stdout",
     "output_type": "stream",
     "text": [
      "1\n",
      "3\n",
      "  *\n",
      " ***\n",
      "*****\n"
     ]
    }
   ],
   "source": [
    "for cases in range(int(input())):\n",
    "    value = int(input())\n",
    "    for p in range(1,(2*value),2):\n",
    "        print(\" \"*(value-1)+\"*\"*p)\n",
    "        value-=1"
   ]
  },
  {
   "cell_type": "code",
   "execution_count": null,
   "metadata": {},
   "outputs": [],
   "source": []
  },
  {
   "cell_type": "markdown",
   "metadata": {},
   "source": [
    "### Q6 . Digit Problem"
   ]
  },
  {
   "cell_type": "code",
   "execution_count": 263,
   "metadata": {},
   "outputs": [
    {
     "name": "stdout",
     "output_type": "stream",
     "text": [
      "4483 2\n"
     ]
    }
   ],
   "source": [
    "x,k = map(str,input().split())\n",
    "print('9'*int(k)+x[int(k):])"
   ]
  },
  {
   "cell_type": "code",
   "execution_count": 267,
   "metadata": {},
   "outputs": [
    {
     "data": {
      "text/plain": [
       "'9983'"
      ]
     },
     "execution_count": 267,
     "metadata": {},
     "output_type": "execute_result"
    }
   ],
   "source": []
  },
  {
   "cell_type": "code",
   "execution_count": null,
   "metadata": {},
   "outputs": [],
   "source": []
  }
 ],
 "metadata": {
  "kernelspec": {
   "display_name": "Python 3",
   "language": "python",
   "name": "python3"
  },
  "language_info": {
   "codemirror_mode": {
    "name": "ipython",
    "version": 3
   },
   "file_extension": ".py",
   "mimetype": "text/x-python",
   "name": "python",
   "nbconvert_exporter": "python",
   "pygments_lexer": "ipython3",
   "version": "3.7.3"
  }
 },
 "nbformat": 4,
 "nbformat_minor": 2
}
