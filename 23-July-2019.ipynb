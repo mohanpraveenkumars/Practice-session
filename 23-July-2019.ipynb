{
 "cells": [
  {
   "cell_type": "markdown",
   "metadata": {},
   "source": [
    "### Q10 . Sherlock and XOR\n"
   ]
  },
  {
   "cell_type": "code",
   "execution_count": 36,
   "metadata": {},
   "outputs": [
    {
     "name": "stdout",
     "output_type": "stream",
     "text": [
      "1\n",
      "4\n",
      "1 2 3 4\n",
      "4\n"
     ]
    }
   ],
   "source": [
    "for cases in range(int(input())):\n",
    "    length = int(input())\n",
    "    data = list(map(int,input().split()))\n",
    "    count=0\n",
    "    for i in range(length-1):\n",
    "        for j in range(i+1,length):\n",
    "            if (data[i]^data[j])%2==1:\n",
    "                count+=1\n",
    "    print(count)"
   ]
  },
  {
   "cell_type": "code",
   "execution_count": 37,
   "metadata": {},
   "outputs": [
    {
     "name": "stdout",
     "output_type": "stream",
     "text": [
      "1\n",
      "4\n",
      "1 2 3 4\n",
      "4\n"
     ]
    }
   ],
   "source": [
    "for cases in range(int(input())):\n",
    "    length = int(input())\n",
    "    data = list(map(int,input().split()))\n",
    "    even,odd = 0,0\n",
    "    for digit in data:\n",
    "        if digit%2 ==0:\n",
    "            even+=1\n",
    "        else:\n",
    "            odd+=1\n",
    "    print(odd*even)"
   ]
  },
  {
   "cell_type": "code",
   "execution_count": null,
   "metadata": {},
   "outputs": [],
   "source": []
  },
  {
   "cell_type": "markdown",
   "metadata": {},
   "source": [
    "### Q11 . Sorting array without using functions"
   ]
  },
  {
   "cell_type": "code",
   "execution_count": 64,
   "metadata": {},
   "outputs": [],
   "source": [
    "li = [46,21,897,12,7875,87]"
   ]
  },
  {
   "cell_type": "code",
   "execution_count": 65,
   "metadata": {},
   "outputs": [
    {
     "name": "stdout",
     "output_type": "stream",
     "text": [
      "12\n"
     ]
    }
   ],
   "source": [
    "for i in range(len(li)-1):\n",
    "    for j in range(i+1,len(li)):\n",
    "        if li[i]>li[j]:\n",
    "            li[i],li[j] = li[j],li[i]\n",
    "print(li[0])"
   ]
  },
  {
   "cell_type": "code",
   "execution_count": 69,
   "metadata": {},
   "outputs": [
    {
     "name": "stdout",
     "output_type": "stream",
     "text": [
      "12\n"
     ]
    }
   ],
   "source": [
    "temp = li[0]\n",
    "for digit in li:\n",
    "    if temp > digit:\n",
    "        temp = digit\n",
    "print(temp)"
   ]
  },
  {
   "cell_type": "code",
   "execution_count": null,
   "metadata": {},
   "outputs": [],
   "source": []
  },
  {
   "cell_type": "markdown",
   "metadata": {},
   "source": [
    "### Q12 . Poisonous gas\n"
   ]
  },
  {
   "cell_type": "code",
   "execution_count": 11,
   "metadata": {},
   "outputs": [
    {
     "name": "stdout",
     "output_type": "stream",
     "text": [
      "1\n",
      "2\n",
      "8 -4\n",
      "Yes\n"
     ]
    }
   ],
   "source": [
    "for cases in range(int(input())):\n",
    "    length = int(input())\n",
    "    data = list(map(int,input().split()))\n",
    "    total = 0\n",
    "    for ele in data:\n",
    "        if ele > 0:\n",
    "            total += ele\n",
    "    i = 0\n",
    "    flag = False\n",
    "    while(total >= (2**i)):\n",
    "        #print(total,2**i)\n",
    "        if((2**i) == total):\n",
    "            flag = True\n",
    "        i+=1\n",
    "\n",
    "    if flag==True:\n",
    "        print(\"Yes\")\n",
    "    else:\n",
    "        print(\"No\")"
   ]
  },
  {
   "cell_type": "code",
   "execution_count": 13,
   "metadata": {},
   "outputs": [
    {
     "name": "stdout",
     "output_type": "stream",
     "text": [
      "1\n",
      "2\n",
      "8 -4\n",
      "Yes\n"
     ]
    }
   ],
   "source": [
    "#model 2\n",
    "t=int(input())\n",
    "for _ in range(t):\n",
    "    n=int(input())\n",
    "    a=list(map(int,input().split()))\n",
    "    x=0\n",
    "    for i in a:\n",
    "        if i>0:\n",
    "            x+=i\n",
    "    binary=bin(x)[2:]\n",
    "\n",
    "    if binary.count('1')==1:\n",
    "        print('Yes')\n",
    "    else:\n",
    "        print('No')"
   ]
  },
  {
   "cell_type": "code",
   "execution_count": null,
   "metadata": {},
   "outputs": [],
   "source": []
  },
  {
   "cell_type": "markdown",
   "metadata": {},
   "source": [
    "### Q13 . Xsquare And Two Strings\n"
   ]
  },
  {
   "cell_type": "code",
   "execution_count": 31,
   "metadata": {},
   "outputs": [
    {
     "name": "stdout",
     "output_type": "stream",
     "text": [
      "1\n",
      "hello\n",
      "buy\n",
      "No\n"
     ]
    }
   ],
   "source": [
    "for cases in range(int(input())):\n",
    "    s1 = input()\n",
    "    s2 = input()\n",
    "    flag = False\n",
    "    for ele in s1:\n",
    "        if ele in s2:\n",
    "            flag = True\n",
    "            break\n",
    "    if flag == True:\n",
    "        print(\"Yes\")\n",
    "    else:\n",
    "        print(\"No\")"
   ]
  },
  {
   "cell_type": "code",
   "execution_count": 34,
   "metadata": {},
   "outputs": [
    {
     "name": "stdout",
     "output_type": "stream",
     "text": [
      "1\n",
      "hello\n",
      "buy\n",
      "No\n"
     ]
    }
   ],
   "source": [
    "#model 2\n",
    "\n",
    "for cases in range(int(input())):\n",
    "    s1 = set(input())\n",
    "    s2 = set(input())\n",
    "    if s1&s2:\n",
    "        print(\"Yes\")\n",
    "    else:\n",
    "        print(\"No\")"
   ]
  },
  {
   "cell_type": "code",
   "execution_count": null,
   "metadata": {},
   "outputs": [],
   "source": []
  },
  {
   "cell_type": "markdown",
   "metadata": {},
   "source": [
    "### Q14 . Flash vs Katmos\n"
   ]
  },
  {
   "cell_type": "code",
   "execution_count": 49,
   "metadata": {},
   "outputs": [
    {
     "name": "stdout",
     "output_type": "stream",
     "text": [
      "1\n",
      "2\n",
      "4 5\n",
      "4 5\n"
     ]
    }
   ],
   "source": [
    "# model 2\n",
    "t = int(input())\n",
    "for _ in range(t):\n",
    "    n = int(input())\n",
    "    print(\" \".join(map(str, sorted(map(int,input().split()), key=lambda x: bin(x)[2:].count(\"1\")))))"
   ]
  },
  {
   "cell_type": "code",
   "execution_count": null,
   "metadata": {},
   "outputs": [],
   "source": []
  },
  {
   "cell_type": "markdown",
   "metadata": {},
   "source": [
    "### Q15 . Special Bit Numbers\n",
    "\n"
   ]
  },
  {
   "cell_type": "code",
   "execution_count": 74,
   "metadata": {},
   "outputs": [
    {
     "name": "stdout",
     "output_type": "stream",
     "text": [
      "5 1\n",
      "3 5 1 12 7\n",
      "1 3\n",
      "['11', '101', '1']\n"
     ]
    }
   ],
   "source": [
    "length,quires = map(int,input().split())\n",
    "data = list(map(int,input().split()))\n",
    "for cases in range(quires):\n",
    "    lb,ub = map(int,input().split())\n",
    "    empty = []\n",
    "    flag = False\n",
    "    count = 0\n",
    "    for values in range(lb-1,ub):\n",
    "        empty.append(bin(data[values])[2:])\n",
    "    for ele in empty:\n",
    "        if '11' in str(ele):\n",
    "            count+=1\n",
    "        else:\n",
    "            count+=0\n",
    "    print(count)"
   ]
  },
  {
   "cell_type": "code",
   "execution_count": null,
   "metadata": {},
   "outputs": [],
   "source": [
    "p = []\n",
    "    for ele in empty:\n",
    "        p += list(ele)"
   ]
  },
  {
   "cell_type": "code",
   "execution_count": 87,
   "metadata": {},
   "outputs": [
    {
     "name": "stdout",
     "output_type": "stream",
     "text": [
      "s\n"
     ]
    }
   ],
   "source": [
    "for ele in empty:\n",
    "    if '11' in str(ele):\n",
    "        print('s')"
   ]
  },
  {
   "cell_type": "code",
   "execution_count": null,
   "metadata": {},
   "outputs": [],
   "source": []
  },
  {
   "cell_type": "markdown",
   "metadata": {},
   "source": [
    "### Q16 . Play with Numbers"
   ]
  },
  {
   "cell_type": "code",
   "execution_count": 107,
   "metadata": {},
   "outputs": [
    {
     "name": "stdout",
     "output_type": "stream",
     "text": [
      "1\n",
      "4\n",
      "1 2 3 0\n",
      "4\n"
     ]
    }
   ],
   "source": [
    "for cases in range(int(input())):\n",
    "    length = int(input())\n",
    "    data = list(map(int,input().split()))\n",
    "    total = 0\n",
    "    for digit in data:\n",
    "        try:\n",
    "            idx = (bin(digit)[2:])[::-1].index('1')\n",
    "            #print(idx)\n",
    "            total += (2**idx)\n",
    "        except:\n",
    "            continue\n",
    "    print(total)"
   ]
  },
  {
   "cell_type": "code",
   "execution_count": 105,
   "metadata": {},
   "outputs": [
    {
     "data": {
      "text/plain": [
       "2"
      ]
     },
     "execution_count": 105,
     "metadata": {},
     "output_type": "execute_result"
    }
   ],
   "source": [
    "(bin(digit)[2:])[::-1].index('1')"
   ]
  },
  {
   "cell_type": "code",
   "execution_count": null,
   "metadata": {},
   "outputs": [],
   "source": []
  },
  {
   "cell_type": "markdown",
   "metadata": {},
   "source": [
    "### Q17 . Aaryan, Subsequences And Great XOR\n"
   ]
  },
  {
   "cell_type": "code",
   "execution_count": 109,
   "metadata": {
    "scrolled": true
   },
   "outputs": [
    {
     "data": {
      "text/plain": [
       "5"
      ]
     },
     "execution_count": 109,
     "metadata": {},
     "output_type": "execute_result"
    }
   ],
   "source": [
    "li = [8,9,9,8]"
   ]
  },
  {
   "cell_type": "code",
   "execution_count": 113,
   "metadata": {},
   "outputs": [
    {
     "name": "stdout",
     "output_type": "stream",
     "text": [
      "102\n"
     ]
    }
   ],
   "source": [
    "XOR = []\n",
    "for i in range(len(li)-1):\n",
    "    for j in range(i+1,len(li)):\n",
    "        #print(li[i],li[j],li[i]^li[j])\n",
    "        XOR.append(li[i]^li[j])\n",
    "\n",
    "    for j in range(i+1,len(XOR)):\n",
    "        total += XOR[i]|XOR[j]\n",
    "print(total)"
   ]
  },
  {
   "cell_type": "code",
   "execution_count": 130,
   "metadata": {},
   "outputs": [
    {
     "name": "stdout",
     "output_type": "stream",
     "text": [
      "4\n",
      "8 9 9 8\n",
      "9\n"
     ]
    }
   ],
   "source": [
    "length = int(input())\n",
    "data = list(map(int,input().split()))\n",
    "total = 0\n",
    "for ele in range(length-1):\n",
    "    total |= data[ele]|data[ele+1]\n",
    "    #print(total,ele,total)\n",
    "print(total)"
   ]
  },
  {
   "cell_type": "code",
   "execution_count": null,
   "metadata": {},
   "outputs": [],
   "source": []
  },
  {
   "cell_type": "markdown",
   "metadata": {},
   "source": [
    "### Q18 . Power of 2\n"
   ]
  },
  {
   "cell_type": "code",
   "execution_count": 6,
   "metadata": {},
   "outputs": [
    {
     "name": "stdout",
     "output_type": "stream",
     "text": [
      "5\n",
      "1\n",
      "2\n",
      "3\n",
      "4\n",
      "5\n",
      "3\n"
     ]
    }
   ],
   "source": [
    "count=0\n",
    "for cases in range(int(input())):\n",
    "    num = int(input())\n",
    "    i = 0\n",
    "    while(num >= (2**i)):\n",
    "        #print(num,2**i)\n",
    "        if num == (2**i):\n",
    "            count+=1\n",
    "            #print(count)\n",
    "        i+=1\n",
    "print(count)\n",
    "            \n",
    "            "
   ]
  },
  {
   "cell_type": "code",
   "execution_count": null,
   "metadata": {},
   "outputs": [],
   "source": []
  },
  {
   "cell_type": "markdown",
   "metadata": {},
   "source": [
    "### Q19 . Sum of Numbers\n"
   ]
  },
  {
   "cell_type": "code",
   "execution_count": 22,
   "metadata": {},
   "outputs": [
    {
     "name": "stdout",
     "output_type": "stream",
     "text": [
      "1\n",
      "5\n",
      "3 7 2 0 -1\n",
      "8\n",
      "['11', '111', '10', '0']\n"
     ]
    }
   ],
   "source": [
    "for case in range(int(input())):\n",
    "    length = int(input())\n",
    "    data = list(map(int,input().split()))\n",
    "    expect = int(input())\n",
    "    total = 0\n",
    "    binary = []\n",
    "    for digit in range(length-1):\n",
    "        if digit >= 0:\n",
    "            binary.append(bin(data[digit])[2:])\n",
    "    print(binary)"
   ]
  },
  {
   "cell_type": "code",
   "execution_count": 51,
   "metadata": {},
   "outputs": [
    {
     "data": {
      "text/plain": [
       "'0b10'"
      ]
     },
     "execution_count": 51,
     "metadata": {},
     "output_type": "execute_result"
    }
   ],
   "source": [
    "c = 0\n",
    "for i in range(len(binary)-1):\n",
    "    #print(binary[i],binary[i+1])\n",
    "    c = bin(int(binary[i],2) + int(binary[i+1],2))\n",
    "c"
   ]
  },
  {
   "cell_type": "code",
   "execution_count": null,
   "metadata": {},
   "outputs": [],
   "source": []
  },
  {
   "cell_type": "code",
   "execution_count": 43,
   "metadata": {},
   "outputs": [
    {
     "data": {
      "text/plain": [
       "'1010'"
      ]
     },
     "execution_count": 43,
     "metadata": {},
     "output_type": "execute_result"
    }
   ],
   "source": [
    "bin(int('11',2) + int('111',2))[2:]"
   ]
  },
  {
   "cell_type": "code",
   "execution_count": null,
   "metadata": {},
   "outputs": [],
   "source": []
  }
 ],
 "metadata": {
  "kernelspec": {
   "display_name": "Python 3",
   "language": "python",
   "name": "python3"
  },
  "language_info": {
   "codemirror_mode": {
    "name": "ipython",
    "version": 3
   },
   "file_extension": ".py",
   "mimetype": "text/x-python",
   "name": "python",
   "nbconvert_exporter": "python",
   "pygments_lexer": "ipython3",
   "version": "3.7.3"
  }
 },
 "nbformat": 4,
 "nbformat_minor": 2
}
