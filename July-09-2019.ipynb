{
 "cells": [
  {
   "cell_type": "code",
   "execution_count": 1,
   "metadata": {},
   "outputs": [
    {
     "data": {
      "text/plain": [
       "['__add__',\n",
       " '__class__',\n",
       " '__contains__',\n",
       " '__delattr__',\n",
       " '__dir__',\n",
       " '__doc__',\n",
       " '__eq__',\n",
       " '__format__',\n",
       " '__ge__',\n",
       " '__getattribute__',\n",
       " '__getitem__',\n",
       " '__getnewargs__',\n",
       " '__gt__',\n",
       " '__hash__',\n",
       " '__init__',\n",
       " '__init_subclass__',\n",
       " '__iter__',\n",
       " '__le__',\n",
       " '__len__',\n",
       " '__lt__',\n",
       " '__mod__',\n",
       " '__mul__',\n",
       " '__ne__',\n",
       " '__new__',\n",
       " '__reduce__',\n",
       " '__reduce_ex__',\n",
       " '__repr__',\n",
       " '__rmod__',\n",
       " '__rmul__',\n",
       " '__setattr__',\n",
       " '__sizeof__',\n",
       " '__str__',\n",
       " '__subclasshook__',\n",
       " 'capitalize',\n",
       " 'casefold',\n",
       " 'center',\n",
       " 'count',\n",
       " 'encode',\n",
       " 'endswith',\n",
       " 'expandtabs',\n",
       " 'find',\n",
       " 'format',\n",
       " 'format_map',\n",
       " 'index',\n",
       " 'isalnum',\n",
       " 'isalpha',\n",
       " 'isascii',\n",
       " 'isdecimal',\n",
       " 'isdigit',\n",
       " 'isidentifier',\n",
       " 'islower',\n",
       " 'isnumeric',\n",
       " 'isprintable',\n",
       " 'isspace',\n",
       " 'istitle',\n",
       " 'isupper',\n",
       " 'join',\n",
       " 'ljust',\n",
       " 'lower',\n",
       " 'lstrip',\n",
       " 'maketrans',\n",
       " 'partition',\n",
       " 'replace',\n",
       " 'rfind',\n",
       " 'rindex',\n",
       " 'rjust',\n",
       " 'rpartition',\n",
       " 'rsplit',\n",
       " 'rstrip',\n",
       " 'split',\n",
       " 'splitlines',\n",
       " 'startswith',\n",
       " 'strip',\n",
       " 'swapcase',\n",
       " 'title',\n",
       " 'translate',\n",
       " 'upper',\n",
       " 'zfill']"
      ]
     },
     "execution_count": 1,
     "metadata": {},
     "output_type": "execute_result"
    }
   ],
   "source": [
    "dir(str)"
   ]
  },
  {
   "cell_type": "code",
   "execution_count": 82,
   "metadata": {},
   "outputs": [
    {
     "name": "stdout",
     "output_type": "stream",
     "text": [
      "Help on method_descriptor:\n",
      "\n",
      "zfill(self, width, /)\n",
      "    Pad a numeric string with zeros on the left, to fill a field of the given width.\n",
      "    \n",
      "    The string is never truncated.\n",
      "\n"
     ]
    }
   ],
   "source": [
    "help(str.zfill)"
   ]
  },
  {
   "cell_type": "code",
   "execution_count": 85,
   "metadata": {},
   "outputs": [
    {
     "data": {
      "text/plain": [
       "'Mohan Praveen Kumar'"
      ]
     },
     "execution_count": 85,
     "metadata": {},
     "output_type": "execute_result"
    }
   ],
   "source": [
    "s = \"moHan praveen kumar\"\n",
    "s.title()"
   ]
  },
  {
   "cell_type": "code",
   "execution_count": 7,
   "metadata": {},
   "outputs": [
    {
     "data": {
      "text/plain": [
       "'mohan'"
      ]
     },
     "execution_count": 7,
     "metadata": {},
     "output_type": "execute_result"
    }
   ],
   "source": [
    "s.casefold()"
   ]
  },
  {
   "cell_type": "code",
   "execution_count": 68,
   "metadata": {},
   "outputs": [
    {
     "data": {
      "text/plain": [
       "'::::::::::::\\tmoHan::::::::::::'"
      ]
     },
     "execution_count": 68,
     "metadata": {},
     "output_type": "execute_result"
    }
   ],
   "source": [
    "s.center(30,':')"
   ]
  },
  {
   "cell_type": "code",
   "execution_count": 70,
   "metadata": {},
   "outputs": [
    {
     "data": {
      "text/plain": [
       "'44 asdfgas'"
      ]
     },
     "execution_count": 70,
     "metadata": {},
     "output_type": "execute_result"
    }
   ],
   "source": [
    "'{0} {1}'.format(44,sa)"
   ]
  },
  {
   "cell_type": "code",
   "execution_count": 42,
   "metadata": {},
   "outputs": [
    {
     "data": {
      "text/plain": [
       "'          moHan'"
      ]
     },
     "execution_count": 42,
     "metadata": {},
     "output_type": "execute_result"
    }
   ],
   "source": [
    "s.expandtabs(10)"
   ]
  },
  {
   "cell_type": "code",
   "execution_count": 72,
   "metadata": {},
   "outputs": [
    {
     "data": {
      "text/plain": [
       "'length of asdfgas is 6'"
      ]
     },
     "execution_count": 72,
     "metadata": {},
     "output_type": "execute_result"
    }
   ],
   "source": [
    "'length of {arg1} is {arg0}'.format_map({'arg0':len(s),'arg1':sa})"
   ]
  },
  {
   "cell_type": "code",
   "execution_count": null,
   "metadata": {},
   "outputs": [],
   "source": []
  },
  {
   "cell_type": "code",
   "execution_count": 23,
   "metadata": {},
   "outputs": [
    {
     "name": "stdout",
     "output_type": "stream",
     "text": [
      "2 2 1 1 1 2 2 "
     ]
    }
   ],
   "source": [
    "sa = \"asdfgas\"\n",
    "for i in sa:\n",
    "    print(sa.count(i), end = \" \")"
   ]
  },
  {
   "cell_type": "code",
   "execution_count": 36,
   "metadata": {},
   "outputs": [
    {
     "name": "stdout",
     "output_type": "stream",
     "text": [
      "False\n",
      "True\n",
      "3\n"
     ]
    }
   ],
   "source": [
    "print(sa.startswith('b'))\n",
    "print(sa.endswith(\"s\"))\n",
    "print(sa.find('f'))"
   ]
  },
  {
   "cell_type": "code",
   "execution_count": 37,
   "metadata": {},
   "outputs": [
    {
     "name": "stdout",
     "output_type": "stream",
     "text": [
      "Help on built-in function format:\n",
      "\n",
      "format(...) method of builtins.str instance\n",
      "    S.format(*args, **kwargs) -> str\n",
      "    \n",
      "    Return a formatted version of S, using substitutions from args and kwargs.\n",
      "    The substitutions are identified by braces ('{' and '}').\n",
      "\n"
     ]
    }
   ],
   "source": [
    "help(''.format)"
   ]
  },
  {
   "cell_type": "code",
   "execution_count": 55,
   "metadata": {},
   "outputs": [
    {
     "name": "stdout",
     "output_type": "stream",
     "text": [
      "b'Mohn'\n",
      "b'Moh?n'\n",
      "b'Moh\\xcf\\x8dn'\n"
     ]
    }
   ],
   "source": [
    "saa = \"Mohύn\"\n",
    "print(saa.encode('ascii','ignore'))\n",
    "print(saa.encode('ascii', 'replace'))\n",
    "print(saa.encode(\"utf-8\"))"
   ]
  },
  {
   "cell_type": "code",
   "execution_count": 61,
   "metadata": {},
   "outputs": [
    {
     "data": {
      "text/plain": [
       "b'Moh\\xcf\\x8dn'"
      ]
     },
     "execution_count": 61,
     "metadata": {},
     "output_type": "execute_result"
    }
   ],
   "source": [
    "saa1 = saa.encode('utf-8')\n",
    "saa1"
   ]
  },
  {
   "cell_type": "code",
   "execution_count": 62,
   "metadata": {},
   "outputs": [
    {
     "data": {
      "text/plain": [
       "'Mohύn'"
      ]
     },
     "execution_count": 62,
     "metadata": {},
     "output_type": "execute_result"
    }
   ],
   "source": [
    "saa1.decode('utf-8')"
   ]
  },
  {
   "cell_type": "code",
   "execution_count": 74,
   "metadata": {},
   "outputs": [
    {
     "name": "stdout",
     "output_type": "stream",
     "text": [
      "Help on built-in function maketrans:\n",
      "\n",
      "maketrans(x, y=None, z=None, /)\n",
      "    Return a translation table usable for str.translate().\n",
      "    \n",
      "    If there is only one argument, it must be a dictionary mapping Unicode\n",
      "    ordinals (integers) or characters to Unicode ordinals, strings or None.\n",
      "    Character keys will be then converted to ordinals.\n",
      "    If there are two arguments, they must be strings of equal length, and\n",
      "    in the resulting dictionary, each character in x will be mapped to the\n",
      "    character at the same position in y. If there is a third argument, it\n",
      "    must be a string, whose characters will be mapped to None in the result.\n",
      "\n"
     ]
    }
   ],
   "source": [
    "help(s.maketrans)"
   ]
  },
  {
   "cell_type": "code",
   "execution_count": 89,
   "metadata": {},
   "outputs": [],
   "source": [
    "table = sa.maketrans('abc','def')"
   ]
  },
  {
   "cell_type": "code",
   "execution_count": 78,
   "metadata": {},
   "outputs": [
    {
     "data": {
      "text/plain": [
       "'dsdfgds'"
      ]
     },
     "execution_count": 78,
     "metadata": {},
     "output_type": "execute_result"
    }
   ],
   "source": [
    "sa.translate(table)"
   ]
  },
  {
   "cell_type": "code",
   "execution_count": 80,
   "metadata": {},
   "outputs": [
    {
     "data": {
      "text/plain": [
       "'zsdfgzs'"
      ]
     },
     "execution_count": 80,
     "metadata": {},
     "output_type": "execute_result"
    }
   ],
   "source": [
    "sa.translate({97:'z'})"
   ]
  },
  {
   "cell_type": "code",
   "execution_count": null,
   "metadata": {},
   "outputs": [],
   "source": []
  },
  {
   "cell_type": "code",
   "execution_count": 150,
   "metadata": {},
   "outputs": [
    {
     "name": "stdout",
     "output_type": "stream",
     "text": [
      "1 mohan\n",
      "2 alekhya\n",
      "3 girisha\n",
      "4 kavitha\n",
      "5 bharathi\n"
     ]
    }
   ],
   "source": [
    "# Task 1\n",
    "\n",
    "# Given all the individual scores\n",
    "# Mohan = 1000\n",
    "# Bharathi  = 1\n",
    "# Girisha = 100\n",
    "# alekhya = 200\n",
    "# kavitha = 50\n",
    "\n",
    "d = {'mohan' : 1000, 'bharathi' : 1, 'girisha' : 100, 'alekhya' : 200, 'kavitha' : 50}\n",
    "#val = sorted(d.values(),reverse = True)\n",
    "s = sorted(d.items(), key=lambda k :k[1], reverse = True)\n",
    "rank=1\n",
    "for i in s:\n",
    "    print(rank,i[0])\n",
    "    rank+=1\n",
    "    "
   ]
  },
  {
   "cell_type": "code",
   "execution_count": null,
   "metadata": {},
   "outputs": [],
   "source": []
  },
  {
   "cell_type": "code",
   "execution_count": 158,
   "metadata": {},
   "outputs": [
    {
     "name": "stdout",
     "output_type": "stream",
     "text": [
      "7\n",
      "29\n",
      "1\n"
     ]
    }
   ],
   "source": [
    "# Task 2\n",
    "\n",
    "def com(n1,n2):\n",
    "    count=0\n",
    "    for i in range(1,max([n1,n2])):\n",
    "        if n1%i ==0 and n2%i ==0:\n",
    "            count+=1\n",
    "    print(count)\n",
    "    \n",
    "com(int(input()),int(input()))"
   ]
  },
  {
   "cell_type": "code",
   "execution_count": null,
   "metadata": {},
   "outputs": [],
   "source": []
  },
  {
   "cell_type": "code",
   "execution_count": 10,
   "metadata": {},
   "outputs": [
    {
     "name": "stdout",
     "output_type": "stream",
     "text": [
      "HelloWorld\n"
     ]
    }
   ],
   "source": [
    "# Task 3\n",
    "\n",
    "# find the letters in words\n",
    "\n",
    "s=\"HelloWorld HiThere HowAreYou\"\n",
    "ss = s.split()\n",
    "k = sorted('HW')\n",
    "for i in ss:\n",
    "    for j in i:\n",
    "        if i.startswith(k[0]) and j == k[1]:\n",
    "            print(i)\n",
    "    \n"
   ]
  },
  {
   "cell_type": "code",
   "execution_count": 8,
   "metadata": {},
   "outputs": [
    {
     "name": "stdout",
     "output_type": "stream",
     "text": [
      "HowAreYou\n"
     ]
    }
   ],
   "source": [
    "g = 'HAY'\n",
    "s\n",
    "import re\n",
    "temp  = False\n",
    "for word in s.split():\n",
    "    allcaps = \"\".join(re.findall(\"[A-Z]\",word))\n",
    "    if allcaps.find(g) == 0:\n",
    "        temp = True\n",
    "        print(word)\n",
    "if temp == False:\n",
    "    print(\"Not FOund\")"
   ]
  },
  {
   "cell_type": "code",
   "execution_count": null,
   "metadata": {},
   "outputs": [],
   "source": []
  },
  {
   "cell_type": "code",
   "execution_count": null,
   "metadata": {},
   "outputs": [],
   "source": []
  },
  {
   "cell_type": "code",
   "execution_count": 15,
   "metadata": {},
   "outputs": [
    {
     "name": "stdout",
     "output_type": "stream",
     "text": [
      "12\n",
      "23\n",
      "34\n",
      "45\n",
      "56\n",
      "67\n",
      "78\n",
      "EXIT\n",
      "12 34 56 78\n",
      "78\n"
     ]
    }
   ],
   "source": [
    "# exam \n",
    "\n",
    "li = []\n",
    "while True:\n",
    "    n = input()\n",
    "    if n == 'EXIT':\n",
    "        break\n",
    "    elif int(n)%2==0:\n",
    "        li.append(n)\n",
    "print(' '.join(map(str,li)))\n",
    "print(max(li))"
   ]
  },
  {
   "cell_type": "code",
   "execution_count": null,
   "metadata": {},
   "outputs": [],
   "source": []
  },
  {
   "cell_type": "code",
   "execution_count": 25,
   "metadata": {},
   "outputs": [
    {
     "name": "stdout",
     "output_type": "stream",
     "text": [
      "3\n",
      "asdf.com\n",
      "erg.com\n",
      "qwe.in\n",
      "com\n"
     ]
    }
   ],
   "source": [
    "n = int(input())\n",
    "d={}\n",
    "for i in range(n):\n",
    "    s = input().split('.')[-1]\n",
    "    if s in d:\n",
    "        d[s]+=1\n",
    "    else:\n",
    "        d[s]=1\n",
    "\n",
    "m = max(list(d.values()))\n",
    "for k,v in d.items():\n",
    "    if v == m:\n",
    "        print(k)"
   ]
  },
  {
   "cell_type": "code",
   "execution_count": null,
   "metadata": {},
   "outputs": [],
   "source": []
  },
  {
   "cell_type": "code",
   "execution_count": 1,
   "metadata": {},
   "outputs": [
    {
     "name": "stdout",
     "output_type": "stream",
     "text": [
      "10\n",
      "2 1 3 9 2 4 -10 -9 1 3\n",
      "9\n",
      "9\n"
     ]
    }
   ],
   "source": [
    "## Best index\n",
    "\n",
    "n = int(input())                           # number of inputs\n",
    "a = list(map(int,input().split()))         # inputs upto the range of n\n",
    "for i in range(1,n):\n",
    "    a[i] += a[i-1]                         # adding elements in and rewriting in a[index]\n",
    "    #print(i,a[i])\n",
    "total,count = 0,1                                  # intializing sum = 0 and count = 1\n",
    "while (total+count) <= n:                          # s+c is lessthan n\n",
    "    total+=count                                   # add count to s and increment count\n",
    "    count+=1\n",
    "    #print(s,c)\n",
    "count -= 1\n",
    "total -= 1\n",
    "#print(s,c)\n",
    "maxi = a[total]\n",
    "for i in range(1,n):\n",
    "    if i+total > n-1 :\n",
    "        total -= count\n",
    "        count -= 1\n",
    "    if a[i+total]-a[i-1] > maxi:\n",
    "        maxi = a[i+total]-a[i-1]\n",
    "        \n",
    "print(maxi)"
   ]
  },
  {
   "cell_type": "code",
   "execution_count": 9,
   "metadata": {},
   "outputs": [],
   "source": [
    "# Solution #2\n",
    "\n",
    "# n = int(raw_input())\n",
    "# arr = [int(num) for num in raw_input().split(\" \")]\n",
    "# print arr\n",
    "# maxi = None\n",
    "# for i in range(n):\n",
    "# \tstep = 1\n",
    "# \tsumi = 0\n",
    "# \tj = i\n",
    "# \twhile j + step <= n:\n",
    "# \t\t# print type(end), type(sumi), type(j)\n",
    "# \t\tsumi = sumi + sum(arr[j:j+step])\n",
    "# \t\tj = j+step\n",
    "# \t\tstep = step+1\n",
    "# \tif maxi == None or sumi > maxi:\n",
    "# \t\tmaxi = sumi\n",
    "# print maxi"
   ]
  },
  {
   "cell_type": "code",
   "execution_count": null,
   "metadata": {},
   "outputs": [],
   "source": []
  },
  {
   "cell_type": "code",
   "execution_count": null,
   "metadata": {},
   "outputs": [],
   "source": []
  },
  {
   "cell_type": "code",
   "execution_count": null,
   "metadata": {},
   "outputs": [],
   "source": []
  },
  {
   "cell_type": "code",
   "execution_count": 13,
   "metadata": {},
   "outputs": [
    {
     "name": "stdout",
     "output_type": "stream",
     "text": [
      "1\n",
      "2\n",
      "71\n"
     ]
    }
   ],
   "source": [
    "matchsticks=[6,2,5,5,4,5,6,3,7,6]\n",
    "#d={'6':111,'2':1,'5':117,'4':11,'3':7,'7':117}\n",
    "\n",
    "for s in range(int(input())):\n",
    "    sticks=0\n",
    "    for i in input():\n",
    "        sticks+=matchsticks[int(i)]\n",
    "    if sticks%2==0:\n",
    "        q=int(sticks/2)\n",
    "        print('1'*q)\n",
    "    else:\n",
    "        q=int((sticks-3)/2)\n",
    "        print('7'+'1'*q)"
   ]
  },
  {
   "cell_type": "code",
   "execution_count": null,
   "metadata": {},
   "outputs": [],
   "source": []
  }
 ],
 "metadata": {
  "kernelspec": {
   "display_name": "Python 3",
   "language": "python",
   "name": "python3"
  },
  "language_info": {
   "codemirror_mode": {
    "name": "ipython",
    "version": 3
   },
   "file_extension": ".py",
   "mimetype": "text/x-python",
   "name": "python",
   "nbconvert_exporter": "python",
   "pygments_lexer": "ipython3",
   "version": "3.7.3"
  }
 },
 "nbformat": 4,
 "nbformat_minor": 2
}
