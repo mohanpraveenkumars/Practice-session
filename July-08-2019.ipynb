{
 "cells": [
  {
   "cell_type": "code",
   "execution_count": 6,
   "metadata": {},
   "outputs": [
    {
     "name": "stdout",
     "output_type": "stream",
     "text": [
      "1\n",
      "1000\n",
      "6 12 18 24 30 36 42 48 54 60 66 72 78 84 90 96 102 108 114 120 126 132 138 144 150 156 162 168 174 180 186 192 198 204 210 216 222 228 234 240 246 252 258 264 270 276 282 288 294 300 306 312 318 324 330 336 342 348 354 360 366 372 378 384 390 396 402 408 414 420 426 432 438 444 450 456 462 468 474 480 486 492 498 504 510 516 522 528 534 540 546 552 558 564 570 576 582 588 594 600 606 612 618 624 630 636 642 648 654 660 666 672 678 684 690 696 702 708 714 720 726 732 738 744 750 756 762 768 774 780 786 792 798 804 810 816 822 828 834 840 846 852 858 864 870 876 882 888 894 900 906 912 918 924 930 936 942 948 954 960 966 972 978 984 990 996 "
     ]
    }
   ],
   "source": [
    "# Function to print all numbers divisible by 6 and not a factor of 100 in a given range(lb, ub) inclusive\n",
    "\n",
    "def task1(lb,ub):\n",
    "    for i in range(lb,ub+1):\n",
    "        if i%6 ==0 and 100%i !=0:\n",
    "            print(i, end=\" \")\n",
    "    \n",
    "lb = int(input())\n",
    "ub = int(input())\n",
    "task1(lb,ub)"
   ]
  },
  {
   "cell_type": "code",
   "execution_count": 7,
   "metadata": {},
   "outputs": [
    {
     "name": "stdout",
     "output_type": "stream",
     "text": [
      "2 4 5 10 20 25 50 100 "
     ]
    }
   ],
   "source": [
    "# Factors of 100\n",
    "for i in range(2,101):\n",
    "    if 100%i == 0:\n",
    "        print(i, end=\" \")"
   ]
  },
  {
   "cell_type": "code",
   "execution_count": null,
   "metadata": {},
   "outputs": [],
   "source": []
  },
  {
   "cell_type": "code",
   "execution_count": null,
   "metadata": {},
   "outputs": [],
   "source": []
  },
  {
   "cell_type": "code",
   "execution_count": 11,
   "metadata": {},
   "outputs": [
    {
     "name": "stdout",
     "output_type": "stream",
     "text": [
      "1\n",
      "10\n",
      "2 4 6 8 10 \n",
      "avg : 360.0\n"
     ]
    }
   ],
   "source": [
    "# Function to find the average of cubes of all even numbers in a given range(lb, ub) inclusive\n",
    "\n",
    "def even(n):\n",
    "    if n%2 == 0:\n",
    "        return True\n",
    "    else:\n",
    "        return False\n",
    "\n",
    "def task2(lb,ub):\n",
    "    total = 0\n",
    "    count = 0\n",
    "    for i in range(lb, ub+1):\n",
    "        if even(i) == True:\n",
    "            print(i,end=\" \")\n",
    "            total = total + i**3\n",
    "            count+=1\n",
    "    print(\"\\navg :\", (total/count))\n",
    "    \n",
    "task2(int(input()),int(input()))"
   ]
  },
  {
   "cell_type": "code",
   "execution_count": null,
   "metadata": {},
   "outputs": [],
   "source": []
  },
  {
   "cell_type": "code",
   "execution_count": null,
   "metadata": {},
   "outputs": [],
   "source": []
  },
  {
   "cell_type": "code",
   "execution_count": 12,
   "metadata": {},
   "outputs": [
    {
     "name": "stdout",
     "output_type": "stream",
     "text": [
      "6\n",
      "1 2 3 "
     ]
    }
   ],
   "source": [
    "# Function to generate the list of factors for a given number\n",
    "\n",
    "def task3(num):\n",
    "    for i in range(1,num):\n",
    "        if num%i ==0:\n",
    "            print(i, end = \" \")\n",
    "            \n",
    "task3(int(input()))"
   ]
  },
  {
   "cell_type": "code",
   "execution_count": null,
   "metadata": {},
   "outputs": [],
   "source": []
  },
  {
   "cell_type": "code",
   "execution_count": null,
   "metadata": {},
   "outputs": [],
   "source": []
  },
  {
   "cell_type": "code",
   "execution_count": 19,
   "metadata": {},
   "outputs": [
    {
     "name": "stdout",
     "output_type": "stream",
     "text": [
      "5\n"
     ]
    },
    {
     "data": {
      "text/plain": [
       "120"
      ]
     },
     "execution_count": 19,
     "metadata": {},
     "output_type": "execute_result"
    }
   ],
   "source": [
    "# Function to calculate the factorial of a given number\n",
    "\n",
    "def task4(num):\n",
    "    if num ==0:\n",
    "        return 1\n",
    "    elif num == 1:\n",
    "        return num\n",
    "    else:\n",
    "        return num*task4(num-1)\n",
    "\n",
    "task4(int(input()))"
   ]
  },
  {
   "cell_type": "code",
   "execution_count": null,
   "metadata": {},
   "outputs": [],
   "source": []
  },
  {
   "cell_type": "code",
   "execution_count": null,
   "metadata": {},
   "outputs": [],
   "source": []
  },
  {
   "cell_type": "code",
   "execution_count": 1,
   "metadata": {},
   "outputs": [
    {
     "name": "stdout",
     "output_type": "stream",
     "text": [
      "6\n"
     ]
    },
    {
     "data": {
      "text/plain": [
       "False"
      ]
     },
     "execution_count": 1,
     "metadata": {},
     "output_type": "execute_result"
    }
   ],
   "source": [
    "# Function to check if a given number is Prime\n",
    "\n",
    "def task5(num):\n",
    "    if num ==2:\n",
    "        return True\n",
    "\n",
    "    for i in range(2,num//2):\n",
    "        if num%i ==0:\n",
    "            return False\n",
    "    return True\n",
    "\n",
    "task5(int(input()))"
   ]
  },
  {
   "cell_type": "code",
   "execution_count": null,
   "metadata": {},
   "outputs": [],
   "source": []
  },
  {
   "cell_type": "code",
   "execution_count": 5,
   "metadata": {},
   "outputs": [],
   "source": [
    "q=0\n",
    "c=0\n",
    "\n",
    "while c > 10:\n",
    "    for i in range(2,1100):\n",
    "        if task5(i) == True:\n",
    "            print(i, end = \" \")\n",
    "            q = q+i\n",
    "            c+=1\n",
    "    print(\"\\navg :\", q/c)\n"
   ]
  },
  {
   "cell_type": "code",
   "execution_count": 62,
   "metadata": {},
   "outputs": [
    {
     "name": "stdout",
     "output_type": "stream",
     "text": [
      "25\n",
      "2 3 4 5 7 11 13 17 19 23 \n",
      "avg : 10.4\n"
     ]
    }
   ],
   "source": [
    "# Function to calculate the average first N Prime numbers\n",
    "\n",
    "def task6(boundary):\n",
    "    total = 0\n",
    "    count = 0\n",
    "    for i in range(2,boundary):\n",
    "        if task5(i) == True:\n",
    "            print(i, end = \" \")\n",
    "            total = total+i\n",
    "            count+=1\n",
    "    print(\"\\navg :\", total/count)\n",
    "    \n",
    "task6(int(input()))"
   ]
  },
  {
   "cell_type": "code",
   "execution_count": null,
   "metadata": {},
   "outputs": [],
   "source": []
  },
  {
   "cell_type": "code",
   "execution_count": null,
   "metadata": {},
   "outputs": [],
   "source": []
  },
  {
   "cell_type": "code",
   "execution_count": 67,
   "metadata": {},
   "outputs": [
    {
     "name": "stdout",
     "output_type": "stream",
     "text": [
      "6 28 496 "
     ]
    }
   ],
   "source": [
    "# Function to generate all Perfect numbers in a given range\n",
    "\n",
    "def isperfect(n):\n",
    "    su=0\n",
    "    for j in range(1,n):\n",
    "        if n%j==0:\n",
    "            su+=j\n",
    "    if su==n:\n",
    "        return True\n",
    "    else:\n",
    "        return False\n",
    "\n",
    "def task7(lb,ub):\n",
    "    for i in range(lb,ub+1):\n",
    "        if isperfect(i):\n",
    "            print(i,end=\" \")\n",
    "    return\n",
    "\n",
    "task7(1,1000)"
   ]
  },
  {
   "cell_type": "code",
   "execution_count": null,
   "metadata": {},
   "outputs": [],
   "source": []
  },
  {
   "cell_type": "markdown",
   "metadata": {},
   "source": [
    "## Aditional Problems"
   ]
  },
  {
   "cell_type": "code",
   "execution_count": 71,
   "metadata": {},
   "outputs": [
    {
     "name": "stdout",
     "output_type": "stream",
     "text": [
      "1\n",
      "10\n",
      "1 2 6 24 120 720 5040 40320 362880 3628800 \n",
      " 403791.3\n"
     ]
    }
   ],
   "source": [
    "# Function to calculate the average of all factorials in a given range\n",
    "\n",
    "def task8(lb,ub):\n",
    "    total = 0\n",
    "    for i in range(lb,ub+1):\n",
    "        val = task4(i)\n",
    "        print(val,end= \" \")\n",
    "        total = total+val\n",
    "    print(\"\\n\",total/(ub-lb+1))\n",
    "    \n",
    "task8(int(input()),int(input()))"
   ]
  },
  {
   "cell_type": "code",
   "execution_count": null,
   "metadata": {},
   "outputs": [],
   "source": []
  },
  {
   "cell_type": "code",
   "execution_count": null,
   "metadata": {},
   "outputs": [],
   "source": []
  },
  {
   "cell_type": "code",
   "execution_count": 11,
   "metadata": {},
   "outputs": [
    {
     "name": "stdout",
     "output_type": "stream",
     "text": [
      "1 3 5 7 9 153 371 407 92727 1741725 "
     ]
    }
   ],
   "source": [
    "# Function to generate N odd Armstrong numbers\n",
    "\n",
    "def odd(n):\n",
    "    if n%2 ==0:\n",
    "        return False\n",
    "    else:\n",
    "        return True\n",
    "\n",
    "def arm_check(num):\n",
    "    order = len(str(num))\n",
    "    total=0\n",
    "    temp = num\n",
    "    while temp > 0:\n",
    "        digit = temp % 10\n",
    "        total += digit ** order\n",
    "        temp = temp//10\n",
    "  \n",
    "    if num == total:  \n",
    "        return True\n",
    "    else:\n",
    "        return False\n",
    "        \n",
    "def task9(r):\n",
    "    i = 1\n",
    "    c = 0\n",
    "    while c != r:\n",
    "        if arm_check(i) and odd(i):\n",
    "            c+=1\n",
    "            print(i,end = \" \")\n",
    "        i+=1\n",
    "    \n",
    "task9(10)"
   ]
  },
  {
   "cell_type": "code",
   "execution_count": null,
   "metadata": {},
   "outputs": [],
   "source": []
  },
  {
   "cell_type": "code",
   "execution_count": null,
   "metadata": {},
   "outputs": [],
   "source": []
  },
  {
   "cell_type": "code",
   "execution_count": 4,
   "metadata": {},
   "outputs": [
    {
     "name": "stdout",
     "output_type": "stream",
     "text": [
      "10 * 100  =  1000\n",
      "10 * 101  =  1010\n",
      "10 * 102  =  1020\n"
     ]
    }
   ],
   "source": [
    "# Function to generate Multiplication table for a number in a given range\n",
    "# 10 in the range(100, 102) inclusive\n",
    "# 10 x 100 = 1000\n",
    "# 10 x 101 = 1010\n",
    "# 10 x 102 = 1020\n",
    "\n",
    "def task10(lb,ub):\n",
    "    for i in range(lb,ub+1):\n",
    "        mul = 0\n",
    "        mul = 10 * i\n",
    "        print(\"10 *\",i, \" = \", mul)\n",
    "    return\n",
    "\n",
    "task10(100,102)"
   ]
  },
  {
   "cell_type": "code",
   "execution_count": null,
   "metadata": {},
   "outputs": [],
   "source": []
  },
  {
   "cell_type": "code",
   "execution_count": null,
   "metadata": {},
   "outputs": [],
   "source": []
  },
  {
   "cell_type": "markdown",
   "metadata": {},
   "source": [
    "## Problems That needs a Try\n"
   ]
  },
  {
   "cell_type": "code",
   "execution_count": 8,
   "metadata": {},
   "outputs": [
    {
     "name": "stdout",
     "output_type": "stream",
     "text": [
      "mOhAn\n"
     ]
    }
   ],
   "source": [
    "# You are given a string and your task is to swap cases. In other words, convert all\n",
    "# lowercase letters to uppercase letters and vice versa.\n",
    "# (The String may contain special characters).\n",
    "\n",
    "def task11(s):\n",
    "    toggle = \"\"\n",
    "    for i in s:\n",
    "        #print(ord(i), end=\" \")\n",
    "        if i.islower():\n",
    "            toggle = toggle+i.upper()\n",
    "        elif i.isupper():\n",
    "            toggle = toggle+i.lower()\n",
    "        else:\n",
    "            toggle += toggle\n",
    "    print(toggle)\n",
    "\n",
    "task11('MoHaN')"
   ]
  },
  {
   "cell_type": "code",
   "execution_count": null,
   "metadata": {},
   "outputs": [],
   "source": []
  },
  {
   "cell_type": "code",
   "execution_count": null,
   "metadata": {},
   "outputs": [],
   "source": []
  },
  {
   "cell_type": "code",
   "execution_count": 18,
   "metadata": {},
   "outputs": [
    {
     "name": "stdout",
     "output_type": "stream",
     "text": [
      "3\n",
      "Weird\n",
      "7\n",
      "Weird\n",
      "4\n",
      "Not Weird\n",
      "24\n",
      "Not Weird\n"
     ]
    }
   ],
   "source": [
    "# Given an integer, ’n’ , perform the following conditional actions:\n",
    "# If  ‘n’ is odd, print Weird\n",
    "# If  ‘n’ is even and in the inclusive range of 2 to 5, print Not Weird\n",
    "# If  ‘n’ is even and in the inclusive range of 6 to 20 , print Weird\n",
    "# If  ‘n’ is even and greater than 20, print Not Weird\n",
    "\n",
    "def task12(n):\n",
    "    if (n%2 != 0) or (n%2 ==0 and n>=6 and n<=20):\n",
    "        print(\"Weird\")\n",
    "    elif(n%2 == 0 and n>=2 and n<=5 or n>20):\n",
    "        print(\"Not Weird\")\n",
    "        \n",
    "for i in range(4):\n",
    "    n = int(input())\n",
    "    task12(n)"
   ]
  },
  {
   "cell_type": "code",
   "execution_count": null,
   "metadata": {},
   "outputs": [],
   "source": []
  },
  {
   "cell_type": "code",
   "execution_count": null,
   "metadata": {},
   "outputs": [],
   "source": []
  },
  {
   "cell_type": "code",
   "execution_count": 10,
   "metadata": {},
   "outputs": [
    {
     "name": "stdout",
     "output_type": "stream",
     "text": [
      "12 23 34 34\n",
      "23\n"
     ]
    }
   ],
   "source": [
    "# Given the participants ‘n’ score sheet for your University Sports Day, you are required to find the runner-up score.\n",
    "# You are given scores.\n",
    "# Store them in a list and find the score of the runner-up. (there can be multiple winners - if their scores match).\n",
    "\n",
    "def task13():\n",
    "    #print(max(score))\n",
    "    sss = set(s)\n",
    "    score_sort = sorted(sss,reverse = True)\n",
    "    print(score_sort[1])\n",
    "\n",
    "s = list(map(int,input().split()))\n",
    "task13()"
   ]
  },
  {
   "cell_type": "code",
   "execution_count": null,
   "metadata": {},
   "outputs": [],
   "source": []
  },
  {
   "cell_type": "code",
   "execution_count": null,
   "metadata": {},
   "outputs": [],
   "source": []
  },
  {
   "cell_type": "code",
   "execution_count": null,
   "metadata": {},
   "outputs": [],
   "source": []
  },
  {
   "cell_type": "code",
   "execution_count": null,
   "metadata": {},
   "outputs": [],
   "source": []
  }
 ],
 "metadata": {
  "kernelspec": {
   "display_name": "Python 3",
   "language": "python",
   "name": "python3"
  },
  "language_info": {
   "codemirror_mode": {
    "name": "ipython",
    "version": 3
   },
   "file_extension": ".py",
   "mimetype": "text/x-python",
   "name": "python",
   "nbconvert_exporter": "python",
   "pygments_lexer": "ipython3",
   "version": "3.7.3"
  }
 },
 "nbformat": 4,
 "nbformat_minor": 2
}
